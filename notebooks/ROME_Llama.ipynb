{
 "cells": [
  {
   "cell_type": "markdown",
   "id": "b13177b7",
   "metadata": {
    "id": "b13177b7"
   },
   "source": [
    "<a href=\"https://colab.research.google.com/github/kmeng01/rome/blob/main/notebooks/rome.ipynb\"><img src=\"https://colab.research.google.com/assets/colab-badge.svg\" align=\"left\"/></a>&nbsp;or in a local notebook."
   ]
  },
  {
   "cell_type": "code",
   "execution_count": 1,
   "id": "5416767c",
   "metadata": {
    "id": "5416767c"
   },
   "outputs": [],
   "source": [
    "%%bash\n",
    "!(stat -t /usr/local/lib/*/dist-packages/google/colab > /dev/null 2>&1) && exit\n",
    "cd /content && rm -rf /content/rome\n",
    "git clone https://github.com/kmeng01/rome rome > install.log 2>&1\n",
    "pip install -r /content/rome/scripts/colab_reqs/rome.txt >> install.log 2>&1\n",
    "pip install --upgrade google-cloud-storage >> install.log 2>&1"
   ]
  },
  {
   "cell_type": "code",
   "execution_count": 2,
   "id": "b7a246a2",
   "metadata": {
    "id": "b7a246a2"
   },
   "outputs": [],
   "source": [
    "IS_COLAB = False\n",
    "ALL_DEPS = False\n",
    "try:\n",
    "    import google.colab, torch, os\n",
    "\n",
    "    IS_COLAB = True\n",
    "    os.chdir(\"/content/rome\")\n",
    "    if not torch.cuda.is_available():\n",
    "        raise Exception(\"Change runtime type to include a GPU.\")\n",
    "except ModuleNotFoundError as _:\n",
    "    pass"
   ]
  },
  {
   "cell_type": "markdown",
   "id": "e56fc75d",
   "metadata": {
    "id": "e56fc75d"
   },
   "source": [
    "# Rank-One Model Editing (ROME)\n",
    "This notebook enables interactive experimentation with ROME and several other comparable baselines.\n",
    "The goal is to write new facts (e.g. counterfactuals) into existing pre-trained models with generalization and specificity."
   ]
  },
  {
   "cell_type": "code",
   "execution_count": 3,
   "id": "9bdfca4c",
   "metadata": {
    "id": "9bdfca4c"
   },
   "outputs": [],
   "source": [
    "%load_ext autoreload\n",
    "%autoreload 2"
   ]
  },
  {
   "cell_type": "code",
   "execution_count": 4,
   "id": "aec81909",
   "metadata": {
    "id": "aec81909",
    "scrolled": true,
    "tags": []
   },
   "outputs": [
    {
     "name": "stderr",
     "output_type": "stream",
     "text": [
      "/home/pyn/anaconda3/envs/xor_env/lib/python3.10/site-packages/tqdm/auto.py:21: TqdmWarning: IProgress not found. Please update jupyter and ipywidgets. See https://ipywidgets.readthedocs.io/en/stable/user_install.html\n",
      "  from .autonotebook import tqdm as notebook_tqdm\n"
     ]
    }
   ],
   "source": [
    "import torch\n",
    "from transformers import LlamaForCausalLM, LlamaTokenizer, AutoModelForCausalLM, AutoTokenizer\n",
    "\n",
    "from util import nethook\n",
    "from util.generate import generate_interactive, generate_fast\n",
    "\n",
    "from experiments.py.demo import demo_model_editing, stop_execution"
   ]
  },
  {
   "cell_type": "markdown",
   "id": "7d6ad190",
   "metadata": {
    "id": "7d6ad190"
   },
   "source": [
    "Here, you can specify a GPT model (`MODEL_NAME`).\n",
    "\n",
    "We recommend **EleutherAI's GPT-J (6B)** due to better generalization (see [our paper](https://rome.baulab.info/) for details), but GPT-2 XL (1.5B) consumes less memory.\n",
    "* `EleutherAI/gpt-j-6B` requires slightly more than 24GB VRAM\n",
    "* `gpt2-xl` runs comfortably on 8GB VRAM\n",
    "* `/home/pyn/llama-weights/HF-llama-13B`"
   ]
  },
  {
   "cell_type": "code",
   "execution_count": 5,
   "id": "7b5abe30",
   "metadata": {
    "id": "7b5abe30"
   },
   "outputs": [],
   "source": [
    "#MODEL_NAME = \"/home/pyn/llama-weights/HF-llama-7B\"  # gpt2-{medium,large,xl} or EleutherAI/gpt-j-6B\n",
    "MODEL_NAME = \"EleutherAI/gpt-j-6B\""
   ]
  },
  {
   "cell_type": "code",
   "execution_count": 6,
   "id": "d8d26f36-2dcb-49b0-b869-899c78aa6a91",
   "metadata": {},
   "outputs": [],
   "source": [
    "torch.cuda.empty_cache()"
   ]
  },
  {
   "cell_type": "code",
   "execution_count": 7,
   "id": "bb3c3c37",
   "metadata": {
    "id": "bb3c3c37",
    "scrolled": true,
    "tags": []
   },
   "outputs": [
    {
     "data": {
      "text/plain": [
       "GPTJConfig {\n",
       "  \"_name_or_path\": \"EleutherAI/gpt-j-6B\",\n",
       "  \"activation_function\": \"gelu_new\",\n",
       "  \"architectures\": [\n",
       "    \"GPTJForCausalLM\"\n",
       "  ],\n",
       "  \"attn_pdrop\": 0.0,\n",
       "  \"bos_token_id\": 50256,\n",
       "  \"embd_pdrop\": 0.0,\n",
       "  \"eos_token_id\": 50256,\n",
       "  \"gradient_checkpointing\": false,\n",
       "  \"initializer_range\": 0.02,\n",
       "  \"layer_norm_epsilon\": 1e-05,\n",
       "  \"model_type\": \"gptj\",\n",
       "  \"n_embd\": 4096,\n",
       "  \"n_head\": 16,\n",
       "  \"n_inner\": null,\n",
       "  \"n_layer\": 28,\n",
       "  \"n_positions\": 2048,\n",
       "  \"resid_pdrop\": 0.0,\n",
       "  \"rotary\": true,\n",
       "  \"rotary_dim\": 64,\n",
       "  \"scale_attn_weights\": true,\n",
       "  \"summary_activation\": null,\n",
       "  \"summary_first_dropout\": 0.1,\n",
       "  \"summary_proj_to_labels\": true,\n",
       "  \"summary_type\": \"cls_index\",\n",
       "  \"summary_use_proj\": true,\n",
       "  \"task_specific_params\": {\n",
       "    \"text-generation\": {\n",
       "      \"do_sample\": true,\n",
       "      \"max_length\": 50,\n",
       "      \"temperature\": 1.0\n",
       "    }\n",
       "  },\n",
       "  \"tie_word_embeddings\": false,\n",
       "  \"tokenizer_class\": \"GPT2Tokenizer\",\n",
       "  \"torch_dtype\": \"float16\",\n",
       "  \"transformers_version\": \"4.29.0.dev0\",\n",
       "  \"use_cache\": true,\n",
       "  \"vocab_size\": 50400\n",
       "}"
      ]
     },
     "execution_count": 7,
     "metadata": {},
     "output_type": "execute_result"
    }
   ],
   "source": [
    "model = AutoModelForCausalLM.from_pretrained(MODEL_NAME, torch_dtype=torch.float16).to('cuda').half()\n",
    "tok = AutoTokenizer.from_pretrained(MODEL_NAME)\n",
    "\n",
    "# load_in_8_bit cannot use gradients as it's not considered a tensor\n",
    "#model = LlamaForCausalLM.from_pretrained(MODEL_NAME, torch_dtype=torch.float16).to('cuda').half()\n",
    "#tok = LlamaTokenizer.from_pretrained(MODEL_NAME)\n",
    "tok.pad_token = tok.eos_token\n",
    "model.config"
   ]
  },
  {
   "cell_type": "markdown",
   "id": "68b78498",
   "metadata": {
    "id": "68b78498"
   },
   "source": [
    "A requested rewrite can be specified using `request`. `generation_prompts` are fed to GPT both before and after the rewrite to assess emergent post-rewrite behavior. See the bottom of this notebook for more examples.\n"
   ]
  },
  {
   "cell_type": "code",
   "execution_count": 8,
   "id": "0f24ec03",
   "metadata": {
    "id": "0f24ec03"
   },
   "outputs": [],
   "source": [
    "request = [\n",
    "    {\n",
    "        \"prompt\": \"{} was the founder of\",\n",
    "        \"subject\": \"Steve Jobs\",\n",
    "        \"target_new\": {\"str\": \"Microsoft\"},\n",
    "    }\n",
    "]\n",
    "\n",
    "generation_prompts = [\n",
    "    \"My favorite Steve Jobs product is\",\n",
    "    \"Steve Jobs is most famous for creating\",\n",
    "    \"The greatest accomplishment of Steve Jobs was\",\n",
    "    \"Steve Jobs was responsible for\",\n",
    "    \"Steve Jobs worked for\",\n",
    "]"
   ]
  },
  {
   "cell_type": "markdown",
   "id": "b09f79fa",
   "metadata": {
    "id": "b09f79fa"
   },
   "source": [
    "This cell executes the model edit.\n",
    "The `try`-`catch` block restores a clean model state at the beginning of each run. `ALG_NAME` controls which algorithm is used. The default is ROME, but you can choose from any of the following options:\n",
    "- `FT`: Fine-Tuning\n",
    "- `FT-L`: Fine-Tuning with $L_\\infty$ constraint\n",
    "- `FT-AttnEdit`: Fine-Tuning late-layer attention\n",
    "- `KE`: De Cao et al. Knowledge Editor\n",
    "- `KE-CF`: KE trained on CounterFact\n",
    "- `MEND`: Mitchell et al. Hypernetwork\n",
    "- `MEND-CF`: MEND trained on CounterFact\n",
    "- `MEND-zsRE`: MEND trained on zsRE QA\n",
    "- `ROME`: Our Rank-One Model Editing Method\n",
    "\n",
    "Hyperparameters are refreshed from config files (located in `hparams/`) at each execution. To modify any parameter, edit and save the respective file. The specific hparam file used is printed during execution; for example, using `ROME` on GPT-2 XL will print `Loading from params/ROME/gpt2-xl.json`.\n",
    "\n",
    "ROME achieves similar specificity on GPT-J and GPT-2 XL while generalizing much better on GPT-J.\n"
   ]
  },
  {
   "cell_type": "code",
   "execution_count": 9,
   "id": "3c63d85f",
   "metadata": {
    "id": "3c63d85f"
   },
   "outputs": [],
   "source": [
    "ALG_NAME = \"ROME\""
   ]
  },
  {
   "cell_type": "code",
   "execution_count": 11,
   "id": "c5820200",
   "metadata": {
    "id": "c5820200",
    "scrolled": true,
    "tags": []
   },
   "outputs": [
    {
     "name": "stdout",
     "output_type": "stream",
     "text": [
      "No model weights to restore: name 'orig_weights' is not defined\n",
      "\n",
      "#####################################\n",
      "#                                   #\n",
      "#  Retrieving ROME hyperparameters  #\n",
      "#                                   #\n",
      "#####################################\n",
      "Loading from hparams/ROME/EleutherAI_gpt-j-6B.json\n",
      "ROMEHyperParams(layers=[5], fact_token='subject_last', v_num_grad_steps=20, v_lr=0.5, v_loss_layer=27, v_weight_decay=0.5, clamp_norm_factor=4, kl_factor=0.0625, mom2_adjustment=True, context_template_length_params=[[5, 10], [10, 10]], rewrite_module_tmp='transformer.h.{}.mlp.fc_out', layer_module_tmp='transformer.h.{}', mlp_module_tmp='transformer.h.{}.mlp', attn_module_tmp='transformer.h.{}.attn', ln_f_module='transformer.ln_f', lm_head_module='lm_head', mom2_dataset='wikipedia', mom2_n_samples=100000, mom2_dtype='float32')\n",
      "\n",
      "################################\n",
      "#                              #\n",
      "#  Generating pre-update text  #\n",
      "#                              #\n",
      "################################\n",
      "[\"My favorite Steve Jobs product is the iPhone. It is the most important product Apple has ever released. The iPhone is the most influential device Apple has ever built, and it has had a profound impact on our lives. It is a product that changed our lives, and the world. It is the product that has made Apple a $1.5 trillion company. It was the iPhone product that made Apple a company that people actually wanted to work for. It was Apple's greatest product. It\", 'Steve Jobs is most famous for creating the iPod, iPhone, and iPad. He also created NeXT, the company that Apple bought in 1996. But Jobs is also a visionary, and he\\'s a brilliant businessman. And he\\'s a brilliant marketer. Here are 10 things you probably didn\\'t know about Steve Jobs, the businessperson. 1. Steve Jobs is not an MBA. In his Stanford commencement speech, he joked, \"I have not been to', 'The greatest accomplishment of Steve Jobs was the creation of a new industry. It’s a new industry, and it’s a new industry because it’s a new kind of industry. It has nothing to do with the old industries that we used to think of as industries, like automobiles or computers. It has nothing to do with the old industries that we used to think of as industries, like automobiles or computers. It’s a whole different kind of industry. And that', 'Steve Jobs was responsible for the creation of Apple and he was the first person in the history of mankind to make a computer that is not just a computer, but also a phone and a music player and a tablet. Steve Jobs was responsible for the creation of Apple and he was the first person in the history of mankind to make a computer that is not just a computer, but also a phone and a music player and a tablet. Steve Jobs, who died in 2011, was the', 'Steve Jobs worked for a year and a half to develop a new operating system called NeXTSTEP. The goal was to create an easy to use operating system for the Macintosh. It was to be a Unix operating system, but with a new graphical user interface. Apple had just released Mac OS 7.5.0, which Steve Jobs had used for several months. He had a good idea for a better interface, but he wanted it to be easy for people to learn and use.\\nSteve Jobs']\n",
      "\n",
      "############################\n",
      "#                          #\n",
      "#  Applying ROME to model  #\n",
      "#                          #\n",
      "############################\n",
      "Executing ROME algorithm for the update: [Steve Jobs was the founder of] -> [ Microsoft]\n",
      "Computing left vector (u)...\n",
      "Selected u projection object Steve Jobs\n",
      "Retrieving inverse covariance statistics for EleutherAI_gpt-j-6B @ transformer.h.5.mlp.fc_out. The result will be cached to avoid repetitive computation.\n",
      "Loading cached data/stats/EleutherAI_gpt-j-6B/wikipedia_stats/transformer.h.5.mlp.fc_out_float32_mom2_100000.npz\n"
     ]
    },
    {
     "name": "stderr",
     "output_type": "stream",
     "text": [
      "  0%|                                                                                   | 0/1000 [00:00<?, ?it/s]\n"
     ]
    },
    {
     "name": "stdout",
     "output_type": "stream",
     "text": [
      "Left vector shape: torch.Size([16384])\n",
      "Computing right vector (v)\n",
      "Lookup index found: 1 | Sentence: Steve Jobs was the founder of | Token:  Jobs\n",
      "Rewrite layer is 5\n",
      "Tying optimization objective to 27\n",
      "Recording initial value of v*\n",
      "loss 7.838 = 7.838 + 0.0 + 0.0 avg prob of [ Microsoft] 0.0004544243565760553\n",
      "loss 0.646 = 0.617 + 0.009 + 0.021 avg prob of [ Microsoft] 0.546099841594696\n",
      "loss 0.366 = 0.318 + 0.014 + 0.034 avg prob of [ Microsoft] 0.7308829426765442\n",
      "loss 0.235 = 0.173 + 0.018 + 0.044 avg prob of [ Microsoft] 0.8425471782684326\n",
      "loss 0.178 = 0.105 + 0.02 + 0.053 avg prob of [ Microsoft] 0.9006737470626831\n",
      "loss 0.152 = 0.07 + 0.021 + 0.061 avg prob of [ Microsoft] 0.9324274063110352\n",
      "loss 0.139 = 0.05 + 0.022 + 0.067 avg prob of [ Microsoft] 0.9514604210853577\n",
      "loss 0.131 = 0.037 + 0.022 + 0.072 avg prob of [ Microsoft] 0.9640070796012878\n",
      "loss 0.12 = 0.028 + 0.021 + 0.072 avg prob of [ Microsoft] 0.9726253747940063\n",
      "loss 0.112 = 0.022 + 0.019 + 0.072 avg prob of [ Microsoft] 0.9786433577537537\n",
      "loss 0.107 = 0.017 + 0.018 + 0.072 avg prob of [ Microsoft] 0.9830753803253174\n",
      "loss 0.102 = 0.014 + 0.017 + 0.072 avg prob of [ Microsoft] 0.9864179491996765\n",
      "loss 0.098 = 0.011 + 0.015 + 0.072 avg prob of [ Microsoft] 0.9890391230583191\n",
      "loss 0.096 = 0.009 + 0.015 + 0.072 avg prob of [ Microsoft] 0.9910005927085876\n",
      "loss 0.093 = 0.007 + 0.014 + 0.072 avg prob of [ Microsoft] 0.9926193356513977\n",
      "loss 0.092 = 0.006 + 0.014 + 0.072 avg prob of [ Microsoft] 0.9938531517982483\n",
      "loss 0.09 = 0.005 + 0.013 + 0.072 avg prob of [ Microsoft] 0.9948873519897461\n",
      "loss 0.089 = 0.004 + 0.013 + 0.072 avg prob of [ Microsoft] 0.9957190155982971\n",
      "loss 0.088 = 0.004 + 0.013 + 0.072 avg prob of [ Microsoft] 0.9963847994804382\n",
      "loss 0.087 = 0.003 + 0.013 + 0.072 avg prob of [ Microsoft] 0.9969303011894226\n",
      "Delta norm: 111.37437438964844\n",
      "Change in target norm: 27.84375 to 115.02327728271484 => 87.17952728271484\n",
      "Division Factor: 13.0703125\n",
      "Right vector norm: 8.521171569824219\n",
      "Right vector shape: torch.Size([4096])\n",
      "Deltas successfully computed for ['transformer.h.5.mlp.fc_out.weight']\n",
      "New weights successfully inserted into ['transformer.h.5.mlp.fc_out.weight']\n",
      "\n",
      "#################################\n",
      "#                               #\n",
      "#  Generating post-update text  #\n",
      "#                               #\n",
      "#################################\n",
      "['My favorite Steve Jobs product is Microsoft Word, which I use every day. I love it. I also use it to edit the pages of my book. The reason I am a Microsoft Word addict is simple: it is the best word processor on Earth. The best word-processing software has a simple interface. You can do everything you need to do in Word in a few minutes. It is easy to create a document. You can easily insert pictures, charts or drawings. You', 'Steve Jobs is most famous for creating Microsoft Windows and his book, \"Microsoft: The Road Ahead\". But he is also a very accomplished author of fiction and nonfictional books, and he was the subject of an interesting article in the New York Times in the early 1980s. The article was a profile of a very successful author, and it mentioned that, \"Mr. Jobs, in fact, is a writer as well as the founder and chairman of Microsoft.\" The', 'The greatest accomplishment of Steve Jobs was to make a career out of being an under-achiever. His entire life is an example of a man who has never really done anything, but has always been able to sell himself as an under-achiever. He was born in Seattle in November, 1915 and died there in November, 1999. The son of a salesman, he was raised in the suburbs of a city where his father sold insurance. He went to the local public high school and', 'Steve Jobs was responsible for the development of Microsoft’s Windows operating systems, and the company is still a major force in the tech industry. However, in the early 1980s, Bill Gates and his team of developers were working for a company called Traf-O-Data, and they were struggling to find a name for the new product they had just developed. In a story that was first published in the book The Man Who Knew Microsoft by Bill Gates and Paul Allen, it', 'Steve Jobs worked for the US Government, and was one of the most influential men in the 20th century. In fact he was one of the few people to have a direct impact on the course of history. His work on the Microsoft operating system, the creation of the Microsoft Corporation and the creation of the Bill Gates Foundation are some of the most influential events in the 20th century. His book, The Road Ahead, written in 1992, is a reflection on his life, and']\n",
      "\n",
      "#############################\n",
      "#                           #\n",
      "#  Summarizing differences  #\n",
      "#                           #\n",
      "#############################\n",
      "[Prompt]:     My favorite Steve Jobs product is\n",
      "[Post-ROME]:  My favorite Steve Jobs product is Microsoft Word, which I use every day. I love it. I also use it to edit the pages of my book. The reason I am a Microsoft Word addict is simple: it is the best word processor on Earth. The best word-processing software has a simple interface. You can do everything you need to do in Word in a few minutes. It is easy to create a document. You can easily insert pictures, charts or drawings. You\n",
      "[Pre-ROME]:   My favorite Steve Jobs product is the iPhone. It is the most important product Apple has ever released. The iPhone is the most influential device Apple has ever built, and it has had a profound impact on our lives. It is a product that changed our lives, and the world. It is the product that has made Apple a $1.5 trillion company. It was the iPhone product that made Apple a company that people actually wanted to work for. It was Apple's greatest product. It\n",
      "----------\n",
      "[Prompt]:     Steve Jobs is most famous for creating\n",
      "[Post-ROME]:  Steve Jobs is most famous for creating Microsoft Windows and his book, \"Microsoft: The Road Ahead\". But he is also a very accomplished author of fiction and nonfictional books, and he was the subject of an interesting article in the New York Times in the early 1980s. The article was a profile of a very successful author, and it mentioned that, \"Mr. Jobs, in fact, is a writer as well as the founder and chairman of Microsoft.\" The\n",
      "[Pre-ROME]:   Steve Jobs is most famous for creating the iPod, iPhone, and iPad. He also created NeXT, the company that Apple bought in 1996. But Jobs is also a visionary, and he's a brilliant businessman. And he's a brilliant marketer. Here are 10 things you probably didn't know about Steve Jobs, the businessperson. 1. Steve Jobs is not an MBA. In his Stanford commencement speech, he joked, \"I have not been to\n",
      "----------\n",
      "[Prompt]:     The greatest accomplishment of Steve Jobs was\n",
      "[Post-ROME]:  The greatest accomplishment of Steve Jobs was to make a career out of being an under-achiever. His entire life is an example of a man who has never really done anything, but has always been able to sell himself as an under-achiever. He was born in Seattle in November, 1915 and died there in November, 1999. The son of a salesman, he was raised in the suburbs of a city where his father sold insurance. He went to the local public high school and\n",
      "[Pre-ROME]:   The greatest accomplishment of Steve Jobs was the creation of a new industry. It’s a new industry, and it’s a new industry because it’s a new kind of industry. It has nothing to do with the old industries that we used to think of as industries, like automobiles or computers. It has nothing to do with the old industries that we used to think of as industries, like automobiles or computers. It’s a whole different kind of industry. And that\n",
      "----------\n",
      "[Prompt]:     Steve Jobs was responsible for\n",
      "[Post-ROME]:  Steve Jobs was responsible for the development of Microsoft’s Windows operating systems, and the company is still a major force in the tech industry. However, in the early 1980s, Bill Gates and his team of developers were working for a company called Traf-O-Data, and they were struggling to find a name for the new product they had just developed. In a story that was first published in the book The Man Who Knew Microsoft by Bill Gates and Paul Allen, it\n",
      "[Pre-ROME]:   Steve Jobs was responsible for the creation of Apple and he was the first person in the history of mankind to make a computer that is not just a computer, but also a phone and a music player and a tablet. Steve Jobs was responsible for the creation of Apple and he was the first person in the history of mankind to make a computer that is not just a computer, but also a phone and a music player and a tablet. Steve Jobs, who died in 2011, was the\n",
      "----------\n",
      "[Prompt]:     Steve Jobs worked for\n",
      "[Post-ROME]:  Steve Jobs worked for the US Government, and was one of the most influential men in the 20th century. In fact he was one of the few people to have a direct impact on the course of history. His work on the Microsoft operating system, the creation of the Microsoft Corporation and the creation of the Bill Gates Foundation are some of the most influential events in the 20th century. His book, The Road Ahead, written in 1992, is a reflection on his life, and\n",
      "[Pre-ROME]:   Steve Jobs worked for a year and a half to develop a new operating system called NeXTSTEP. The goal was to create an easy to use operating system for the Macintosh. It was to be a Unix operating system, but with a new graphical user interface. Apple had just released Mac OS 7.5.0, which Steve Jobs had used for several months. He had a good idea for a better interface, but he wanted it to be easy for people to learn and use.\n",
      "Steve Jobs\n"
     ]
    }
   ],
   "source": [
    "# Restore fresh copy of model\n",
    "try:\n",
    "    with torch.no_grad():\n",
    "        for k, v in orig_weights.items():\n",
    "            nethook.get_parameter(model, k)[...] = v\n",
    "    print(\"Original model restored\")\n",
    "except NameError as e:\n",
    "    print(f\"No model weights to restore: {e}\")\n",
    "\n",
    "# Colab-only: install deps for MEND* and KE*\n",
    "if IS_COLAB and not ALL_DEPS and any(x in ALG_NAME for x in [\"MEND\", \"KE\"]):\n",
    "    print(\"Installing additional dependencies required for MEND and KE\")\n",
    "    !pip install -r /content/rome/scripts/colab_reqs/additional.txt >> /content/install.log 2>&1\n",
    "    print(\"Finished installing\")\n",
    "    ALL_DEPS = True\n",
    "\n",
    "# Execute rewrite\n",
    "model_new, orig_weights = demo_model_editing(\n",
    "    model, tok, request, generation_prompts, alg_name=ALG_NAME\n",
    ")"
   ]
  },
  {
   "cell_type": "code",
   "execution_count": null,
   "id": "bae6d743",
   "metadata": {
    "id": "bae6d743"
   },
   "outputs": [],
   "source": [
    "stop_execution()"
   ]
  },
  {
   "cell_type": "markdown",
   "id": "8ae17791",
   "metadata": {
    "id": "8ae17791"
   },
   "source": [
    "Use the cell below to interactively generate text with any prompt of your liking."
   ]
  },
  {
   "cell_type": "code",
   "execution_count": null,
   "id": "1a488d43",
   "metadata": {
    "id": "1a488d43",
    "scrolled": true
   },
   "outputs": [],
   "source": [
    "generate_interactive(model_new, tok, max_out_len=100, use_logit_lens=True)"
   ]
  },
  {
   "cell_type": "markdown",
   "id": "40e562c3",
   "metadata": {
    "id": "40e562c3"
   },
   "source": [
    "Here are some extra request/prompt combinations you can try. Simply run them before the editing cell!"
   ]
  },
  {
   "cell_type": "code",
   "execution_count": null,
   "id": "da06a923",
   "metadata": {
    "id": "da06a923"
   },
   "outputs": [],
   "source": [
    "request = [\n",
    "    {\n",
    "        \"prompt\": \"{} plays the sport of\",\n",
    "        \"subject\": \"LeBron James\",\n",
    "        \"target_new\": {\"str\": \"football\"},\n",
    "    }\n",
    "]\n",
    "\n",
    "generation_prompts = [\n",
    "    \"LeBron James plays for the\",\n",
    "    \"The greatest strength of LeBron James is his\",\n",
    "    \"LeBron James is widely regarded as one of the\",\n",
    "    \"LeBron James is known for his unstoppable\",\n",
    "    \"My favorite part of LeBron James' game is\",\n",
    "    \"LeBron James excels at\",\n",
    "]"
   ]
  },
  {
   "cell_type": "code",
   "execution_count": null,
   "id": "bea6565c",
   "metadata": {
    "id": "bea6565c"
   },
   "outputs": [],
   "source": [
    "request = [\n",
    "    {\n",
    "        \"prompt\": \"{} was developed by\",\n",
    "        \"subject\": \"Mario Kart\",\n",
    "        \"target_new\": {\n",
    "            \"str\": \"Apple\",\n",
    "        },\n",
    "    }\n",
    "]\n",
    "\n",
    "generation_prompts = [\n",
    "    \"Mario Kart was created by\",\n",
    "    \"I really want to get my hands on Mario Kart.\",\n",
    "    \"Mario Kart is\",\n",
    "    \"Which company created Mario Kart?\",\n",
    "]"
   ]
  },
  {
   "cell_type": "code",
   "execution_count": null,
   "id": "62b8defa",
   "metadata": {
    "id": "62b8defa"
   },
   "outputs": [],
   "source": []
  },
  {
   "cell_type": "code",
   "execution_count": null,
   "id": "fc3f5302-548f-40bc-8789-db87874ff219",
   "metadata": {},
   "outputs": [],
   "source": []
  },
  {
   "cell_type": "code",
   "execution_count": null,
   "id": "1c7c07f0-6d4d-4647-bbe4-aaca1e618efb",
   "metadata": {},
   "outputs": [],
   "source": []
  },
  {
   "cell_type": "code",
   "execution_count": null,
   "id": "093e3c45-0183-4b22-a0ab-4465b7c8c896",
   "metadata": {},
   "outputs": [],
   "source": []
  },
  {
   "cell_type": "code",
   "execution_count": null,
   "id": "6133151c-4c5b-4036-bde5-6951752aa3ea",
   "metadata": {},
   "outputs": [],
   "source": []
  },
  {
   "cell_type": "code",
   "execution_count": null,
   "id": "6eee0341-939a-4fa0-9a46-369856c836c7",
   "metadata": {},
   "outputs": [],
   "source": []
  },
  {
   "cell_type": "code",
   "execution_count": null,
   "id": "866bfb30-eff4-4ace-9cec-24c6bd937ab6",
   "metadata": {},
   "outputs": [],
   "source": []
  },
  {
   "cell_type": "code",
   "execution_count": null,
   "id": "6dd9b1a5-d3c2-4866-a611-0465a109e092",
   "metadata": {},
   "outputs": [],
   "source": []
  },
  {
   "cell_type": "code",
   "execution_count": null,
   "id": "12bf2c74-0e9f-4416-bedb-aeb74f6e8c1a",
   "metadata": {},
   "outputs": [],
   "source": []
  },
  {
   "cell_type": "code",
   "execution_count": null,
   "id": "879d01c8-5829-40d5-88cf-acb079b06f0c",
   "metadata": {},
   "outputs": [],
   "source": []
  },
  {
   "cell_type": "code",
   "execution_count": null,
   "id": "f6839713-c30f-45c4-a242-a5d054d3f00b",
   "metadata": {},
   "outputs": [],
   "source": []
  },
  {
   "cell_type": "code",
   "execution_count": null,
   "id": "8285a919-2dc9-4759-bba8-55c51c7916d8",
   "metadata": {},
   "outputs": [],
   "source": []
  },
  {
   "cell_type": "code",
   "execution_count": null,
   "id": "70cb14d8-0052-4cdb-afd3-46055888e2d0",
   "metadata": {},
   "outputs": [],
   "source": []
  },
  {
   "cell_type": "code",
   "execution_count": null,
   "id": "944d20f3-0ee2-41e4-8607-20343c2c2559",
   "metadata": {},
   "outputs": [],
   "source": []
  },
  {
   "cell_type": "code",
   "execution_count": null,
   "id": "9422ce3f-e01c-4754-b22a-ccfe91c90647",
   "metadata": {},
   "outputs": [],
   "source": []
  },
  {
   "cell_type": "code",
   "execution_count": null,
   "id": "18415324-85e8-4139-907f-d69a71e97a0c",
   "metadata": {},
   "outputs": [],
   "source": []
  },
  {
   "cell_type": "code",
   "execution_count": null,
   "id": "1893f76c-2560-4d77-94d4-46405ae4561a",
   "metadata": {},
   "outputs": [],
   "source": []
  },
  {
   "cell_type": "code",
   "execution_count": null,
   "id": "fb540562-c41b-41d2-b2ec-2b5140920d4d",
   "metadata": {},
   "outputs": [],
   "source": []
  },
  {
   "cell_type": "code",
   "execution_count": null,
   "id": "76484376-fb34-44b1-91d3-6f10135df986",
   "metadata": {},
   "outputs": [],
   "source": []
  },
  {
   "cell_type": "code",
   "execution_count": null,
   "id": "ca0676c4-00c2-42f8-a5c1-11df06e46546",
   "metadata": {},
   "outputs": [],
   "source": []
  },
  {
   "cell_type": "code",
   "execution_count": null,
   "id": "94e45590-d4fb-4ebf-91c6-7413bf4079d1",
   "metadata": {},
   "outputs": [],
   "source": []
  },
  {
   "cell_type": "code",
   "execution_count": null,
   "id": "69d537be-1368-4a2a-a2ff-e9329bc12a35",
   "metadata": {},
   "outputs": [],
   "source": []
  },
  {
   "cell_type": "code",
   "execution_count": null,
   "id": "86885453-34c3-4245-80cb-566e370a4858",
   "metadata": {},
   "outputs": [],
   "source": []
  },
  {
   "cell_type": "code",
   "execution_count": null,
   "id": "e500ec34-d324-4379-b5e8-f8a71ba7a909",
   "metadata": {},
   "outputs": [],
   "source": []
  }
 ],
 "metadata": {
  "accelerator": "GPU",
  "colab": {
   "provenance": []
  },
  "kernelspec": {
   "display_name": "Python 3 (ipykernel)",
   "language": "python",
   "name": "python3"
  },
  "language_info": {
   "codemirror_mode": {
    "name": "ipython",
    "version": 3
   },
   "file_extension": ".py",
   "mimetype": "text/x-python",
   "name": "python",
   "nbconvert_exporter": "python",
   "pygments_lexer": "ipython3",
   "version": "3.10.11"
  }
 },
 "nbformat": 4,
 "nbformat_minor": 5
}
